{
 "cells": [
  {
   "cell_type": "markdown",
   "metadata": {},
   "source": [
    "# 1. Import Dependencies"
   ]
  },
  {
   "cell_type": "code",
   "execution_count": 1,
   "metadata": {},
   "outputs": [
    {
     "name": "stdout",
     "output_type": "stream",
     "text": [
      "Collecting opencv-python\n",
      "  Downloading opencv_python-4.7.0.68-cp37-abi3-win_amd64.whl (38.2 MB)\n",
      "     ---------------------------------------- 38.2/38.2 MB 4.5 MB/s eta 0:00:00\n",
      "Collecting numpy>=1.19.3\n",
      "  Downloading numpy-1.24.1-cp310-cp310-win_amd64.whl (14.8 MB)\n",
      "     ---------------------------------------- 14.8/14.8 MB 4.8 MB/s eta 0:00:00\n",
      "Installing collected packages: numpy, opencv-python\n",
      "Successfully installed numpy-1.24.1 opencv-python-4.7.0.68\n"
     ]
    }
   ],
   "source": [
    "!pip install opencv-python"
   ]
  },
  {
   "cell_type": "code",
   "execution_count": 1,
   "metadata": {},
   "outputs": [],
   "source": [
    "# Import opencv\n",
    "import cv2 \n",
    "\n",
    "# Import uuid\n",
    "import uuid\n",
    "\n",
    "# Import Operating System\n",
    "import os\n",
    "\n",
    "# Import time\n",
    "import time"
   ]
  },
  {
   "cell_type": "markdown",
   "metadata": {},
   "source": [
    "# 2. Define Images to Collect"
   ]
  },
  {
   "cell_type": "code",
   "execution_count": 3,
   "metadata": {},
   "outputs": [],
   "source": [
    "labels = ['thumbsup', 'thumbsdown', 'thankyou', 'livelong']\n",
    "labells = ['violetbottle', 'papercup', 'laptop']\n",
    "number_imgs = 10"
   ]
  },
  {
   "cell_type": "code",
   "execution_count": 4,
   "metadata": {},
   "outputs": [
    {
     "data": {
      "text/plain": [
       "['thumbsup', 'thumbsdown', 'thankyou', 'livelong']"
      ]
     },
     "execution_count": 4,
     "metadata": {},
     "output_type": "execute_result"
    }
   ],
   "source": [
    "labels"
   ]
  },
  {
   "cell_type": "markdown",
   "metadata": {},
   "source": [
    "# 3. Setup Folders "
   ]
  },
  {
   "cell_type": "code",
   "execution_count": 5,
   "metadata": {},
   "outputs": [],
   "source": [
    "IMAGES_PATH = os.path.join('Tensorflow', 'workspace', 'images', 'collectedimages')"
   ]
  },
  {
   "cell_type": "code",
   "execution_count": 6,
   "metadata": {},
   "outputs": [],
   "source": [
    "if not os.path.exists(IMAGES_PATH):\n",
    "    if os.name == 'posix':\n",
    "        !mkdir -p {IMAGES_PATH}\n",
    "    if os.name == 'nt':\n",
    "         !mkdir {IMAGES_PATH}\n",
    "for label in labells:\n",
    "    path = os.path.join(IMAGES_PATH, label)\n",
    "    if not os.path.exists(path):\n",
    "        !mkdir {path}"
   ]
  },
  {
   "cell_type": "markdown",
   "metadata": {},
   "source": [
    "# 4. Capture Images"
   ]
  },
  {
   "cell_type": "code",
   "execution_count": 14,
   "metadata": {},
   "outputs": [
    {
     "name": "stdout",
     "output_type": "stream",
     "text": [
      "Collecting images for violetbottle\n",
      "Collecting image 0\n",
      "Collecting image 1\n",
      "Collecting image 2\n",
      "Collecting image 3\n",
      "Collecting image 4\n",
      "Collecting images for papercup\n",
      "Collecting image 0\n",
      "Collecting image 1\n",
      "Collecting image 2\n",
      "Collecting image 3\n",
      "Collecting image 4\n",
      "Collecting images for laptop\n",
      "Collecting image 0\n",
      "Collecting image 1\n",
      "Collecting image 2\n",
      "Collecting image 3\n",
      "Collecting image 4\n"
     ]
    }
   ],
   "source": [
    "for label in labells:\n",
    "    cap = cv2.VideoCapture(1)\n",
    "    print('Collecting images for {}'.format(label))\n",
    "    time.sleep(10)\n",
    "    for imgnum in range(number_imgs):\n",
    "        print('Collecting image {}'.format(imgnum))\n",
    "        ret, frame = cap.read()\n",
    "        imgname = os.path.join(IMAGES_PATH,label,label+'.'+'{}.jpg'.format(str(uuid.uuid1())))\n",
    "        cv2.imwrite(imgname, frame)\n",
    "        cv2.imshow('frame', frame)\n",
    "        time.sleep(5)\n",
    "\n",
    "        if cv2.waitKey(1) & 0xFF == ord('q'):\n",
    "            break\n",
    "cap.release()\n",
    "cv2.destroyAllWindows()"
   ]
  },
  {
   "cell_type": "markdown",
   "metadata": {},
   "source": [
    "# 5. Image Labelling"
   ]
  },
  {
   "cell_type": "code",
   "execution_count": 9,
   "metadata": {
    "scrolled": true
   },
   "outputs": [
    {
     "name": "stdout",
     "output_type": "stream",
     "text": [
      "Collecting pyqt5\n",
      "  Downloading PyQt5-5.15.8-cp37-abi3-win_amd64.whl (6.8 MB)\n",
      "     ---------------------------------------- 6.8/6.8 MB 4.3 MB/s eta 0:00:00\n",
      "Collecting lxml\n",
      "  Using cached lxml-4.9.2-cp310-cp310-win_amd64.whl (3.8 MB)\n",
      "Collecting PyQt5-Qt5>=5.15.2\n",
      "  Downloading PyQt5_Qt5-5.15.2-py3-none-win_amd64.whl (50.1 MB)\n",
      "     ---------------------------------------- 50.1/50.1 MB 7.6 MB/s eta 0:00:00\n",
      "Collecting PyQt5-sip<13,>=12.11\n",
      "  Downloading PyQt5_sip-12.11.1-cp310-cp310-win_amd64.whl (78 kB)\n",
      "     ---------------------------------------- 78.4/78.4 kB ? eta 0:00:00\n",
      "Installing collected packages: PyQt5-Qt5, PyQt5-sip, lxml, pyqt5\n",
      "Successfully installed PyQt5-Qt5-5.15.2 PyQt5-sip-12.11.1 lxml-4.9.2 pyqt5-5.15.8\n"
     ]
    }
   ],
   "source": [
    "!pip install --upgrade pyqt5 lxml"
   ]
  },
  {
   "cell_type": "code",
   "execution_count": 10,
   "metadata": {},
   "outputs": [],
   "source": [
    "LABELIMG_PATH = os.path.join('Tensorflow', 'labelimg')"
   ]
  },
  {
   "cell_type": "code",
   "execution_count": 11,
   "metadata": {},
   "outputs": [
    {
     "name": "stderr",
     "output_type": "stream",
     "text": [
      "Cloning into 'Tensorflow\\labelimg'...\n"
     ]
    }
   ],
   "source": [
    "if not os.path.exists(LABELIMG_PATH):\n",
    "    !mkdir {LABELIMG_PATH}\n",
    "    !git clone https://github.com/tzutalin/labelImg {LABELIMG_PATH}"
   ]
  },
  {
   "cell_type": "code",
   "execution_count": 12,
   "metadata": {},
   "outputs": [],
   "source": [
    "if os.name == 'posix':\n",
    "    !make qt5py3\n",
    "if os.name =='nt':\n",
    "    !cd {LABELIMG_PATH} && pyrcc5 -o libs/resources.py resources.qrc"
   ]
  },
  {
   "cell_type": "code",
   "execution_count": 15,
   "metadata": {},
   "outputs": [
    {
     "name": "stdout",
     "output_type": "stream",
     "text": [
      "Cancel creation.\n",
      "Image:C:\\Users\\Owner\\Desktop\\Hackathon\\TFODCourse\\Tensorflow\\workspace\\images\\collectedimages\\violetbottle\\violetbottle.ade5fe49-9f19-11ed-b103-933f72126ca1.jpg -> Annotation:C:/Users/Owner/Desktop/Hackathon/TFODCourse/Tensorflow/workspace/images/collectedimages/violetbottle\\violetbottle.ade5fe49-9f19-11ed-b103-933f72126ca1.xml\n",
      "Image:C:\\Users\\Owner\\Desktop\\Hackathon\\TFODCourse\\Tensorflow\\workspace\\images\\collectedimages\\violetbottle\\violetbottle.aae6987a-9f19-11ed-9f71-933f72126ca1.jpg -> Annotation:C:/Users/Owner/Desktop/Hackathon/TFODCourse/Tensorflow/workspace/images/collectedimages/violetbottle\\violetbottle.aae6987a-9f19-11ed-9f71-933f72126ca1.xml\n",
      "Image:C:\\Users\\Owner\\Desktop\\Hackathon\\TFODCourse\\Tensorflow\\workspace\\images\\collectedimages\\violetbottle\\violetbottle.a7e5ec39-9f19-11ed-a72d-933f72126ca1.jpg -> Annotation:C:/Users/Owner/Desktop/Hackathon/TFODCourse/Tensorflow/workspace/images/collectedimages/violetbottle\\violetbottle.a7e5ec39-9f19-11ed-a72d-933f72126ca1.xml\n",
      "Image:C:\\Users\\Owner\\Desktop\\Hackathon\\TFODCourse\\Tensorflow\\workspace\\images\\collectedimages\\violetbottle\\violetbottle.a4e7a4d9-9f19-11ed-bc99-933f72126ca1.jpg -> Annotation:C:/Users/Owner/Desktop/Hackathon/TFODCourse/Tensorflow/workspace/images/collectedimages/violetbottle\\violetbottle.a4e7a4d9-9f19-11ed-bc99-933f72126ca1.xml\n",
      "Image:C:\\Users\\Owner\\Desktop\\Hackathon\\TFODCourse\\Tensorflow\\workspace\\images\\collectedimages\\violetbottle\\violetbottle.a4e7a4d9-9f19-11ed-bc99-933f72126ca1.jpg -> Annotation:C:/Users/Owner/Desktop/Hackathon/TFODCourse/Tensorflow/workspace/images/collectedimages/violetbottle\\violetbottle.a4e7a4d9-9f19-11ed-bc99-933f72126ca1.xml\n",
      "Image:C:\\Users\\Owner\\Desktop\\Hackathon\\TFODCourse\\Tensorflow\\workspace\\images\\collectedimages\\violetbottle\\violetbottle.a4e7a4d9-9f19-11ed-bc99-933f72126ca1.jpg -> Annotation:C:/Users/Owner/Desktop/Hackathon/TFODCourse/Tensorflow/workspace/images/collectedimages/violetbottle\\violetbottle.a4e7a4d9-9f19-11ed-bc99-933f72126ca1.xml\n",
      "Image:C:\\Users\\Owner\\Desktop\\Hackathon\\TFODCourse\\Tensorflow\\workspace\\images\\collectedimages\\violetbottle\\violetbottle.a4e7a4d9-9f19-11ed-bc99-933f72126ca1.jpg -> Annotation:C:/Users/Owner/Desktop/Hackathon/TFODCourse/Tensorflow/workspace/images/collectedimages/violetbottle\\violetbottle.a4e7a4d9-9f19-11ed-bc99-933f72126ca1.xml\n",
      "Image:C:\\Users\\Owner\\Desktop\\Hackathon\\TFODCourse\\Tensorflow\\workspace\\images\\collectedimages\\papercup\\papercup.b9e72f9f-9f19-11ed-b832-933f72126ca1.jpg -> Annotation:C:/Users/Owner/Desktop/Hackathon/TFODCourse/Tensorflow/workspace/images/collectedimages/papercup\\papercup.b9e72f9f-9f19-11ed-b832-933f72126ca1.xml\n",
      "Image:C:\\Users\\Owner\\Desktop\\Hackathon\\TFODCourse\\Tensorflow\\workspace\\images\\collectedimages\\papercup\\papercup.bce49256-9f19-11ed-a084-933f72126ca1.jpg -> Annotation:C:/Users/Owner/Desktop/Hackathon/TFODCourse/Tensorflow/workspace/images/collectedimages/papercup\\papercup.bce49256-9f19-11ed-a084-933f72126ca1.xml\n",
      "Image:C:\\Users\\Owner\\Desktop\\Hackathon\\TFODCourse\\Tensorflow\\workspace\\images\\collectedimages\\papercup\\papercup.bfe32535-9f19-11ed-bd4b-933f72126ca1.jpg -> Annotation:C:/Users/Owner/Desktop/Hackathon/TFODCourse/Tensorflow/workspace/images/collectedimages/papercup\\papercup.bfe32535-9f19-11ed-bd4b-933f72126ca1.xml\n",
      "Image:C:\\Users\\Owner\\Desktop\\Hackathon\\TFODCourse\\Tensorflow\\workspace\\images\\collectedimages\\papercup\\papercup.c2e01f1d-9f19-11ed-9b65-933f72126ca1.jpg -> Annotation:C:/Users/Owner/Desktop/Hackathon/TFODCourse/Tensorflow/workspace/images/collectedimages/papercup\\papercup.c2e01f1d-9f19-11ed-9b65-933f72126ca1.xml\n",
      "Image:C:\\Users\\Owner\\Desktop\\Hackathon\\TFODCourse\\Tensorflow\\workspace\\images\\collectedimages\\laptop\\laptop.cee0cc44-9f19-11ed-aa84-933f72126ca1.jpg -> Annotation:C:/Users/Owner/Desktop/Hackathon/TFODCourse/Tensorflow/workspace/images/collectedimages/laptop\\laptop.cee0cc44-9f19-11ed-aa84-933f72126ca1.xml\n",
      "Image:C:\\Users\\Owner\\Desktop\\Hackathon\\TFODCourse\\Tensorflow\\workspace\\images\\collectedimages\\laptop\\laptop.d1df4717-9f19-11ed-b31a-933f72126ca1.jpg -> Annotation:C:/Users/Owner/Desktop/Hackathon/TFODCourse/Tensorflow/workspace/images/collectedimages/laptop\\laptop.d1df4717-9f19-11ed-b31a-933f72126ca1.xml\n",
      "Image:C:\\Users\\Owner\\Desktop\\Hackathon\\TFODCourse\\Tensorflow\\workspace\\images\\collectedimages\\laptop\\laptop.d4dbfe57-9f19-11ed-b56f-933f72126ca1.jpg -> Annotation:C:/Users/Owner/Desktop/Hackathon/TFODCourse/Tensorflow/workspace/images/collectedimages/laptop\\laptop.d4dbfe57-9f19-11ed-b56f-933f72126ca1.xml\n",
      "Image:C:\\Users\\Owner\\Desktop\\Hackathon\\TFODCourse\\Tensorflow\\workspace\\images\\collectedimages\\laptop\\laptop.d7d83eb5-9f19-11ed-8302-933f72126ca1.jpg -> Annotation:C:/Users/Owner/Desktop/Hackathon/TFODCourse/Tensorflow/workspace/images/collectedimages/laptop\\laptop.d7d83eb5-9f19-11ed-8302-933f72126ca1.xml\n"
     ]
    },
    {
     "name": "stderr",
     "output_type": "stream",
     "text": [
      "QAction::event: Ambiguous shortcut overload: Ctrl+Shift+S\n",
      "QAction::event: Ambiguous shortcut overload: Ctrl+Shift+S\n",
      "QAction::event: Ambiguous shortcut overload: Ctrl+Shift+S\n"
     ]
    }
   ],
   "source": [
    "!cd {LABELIMG_PATH} && python labelImg.py"
   ]
  },
  {
   "cell_type": "markdown",
   "metadata": {},
   "source": [
    "# 6. Move them into a Training and Testing Partition"
   ]
  },
  {
   "cell_type": "markdown",
   "metadata": {},
   "source": [
    "# OPTIONAL - 7. Compress them for Colab Training"
   ]
  },
  {
   "cell_type": "code",
   "execution_count": 20,
   "metadata": {},
   "outputs": [],
   "source": [
    "TRAIN_PATH = os.path.join('Tensorflow', 'workspace', 'images', 'train')\n",
    "TEST_PATH = os.path.join('Tensorflow', 'workspace', 'images', 'test')\n",
    "ARCHIVE_PATH = os.path.join('Tensorflow', 'workspace', 'images', 'archive.tar.gz')"
   ]
  },
  {
   "cell_type": "code",
   "execution_count": 21,
   "metadata": {},
   "outputs": [],
   "source": [
    "!tar -czf {ARCHIVE_PATH} {TRAIN_PATH} {TEST_PATH}"
   ]
  },
  {
   "cell_type": "code",
   "execution_count": null,
   "metadata": {},
   "outputs": [],
   "source": []
  }
 ],
 "metadata": {
  "kernelspec": {
   "display_name": "tfod",
   "language": "python",
   "name": "tfod"
  },
  "language_info": {
   "codemirror_mode": {
    "name": "ipython",
    "version": 3
   },
   "file_extension": ".py",
   "mimetype": "text/x-python",
   "name": "python",
   "nbconvert_exporter": "python",
   "pygments_lexer": "ipython3",
   "version": "3.10.5"
  }
 },
 "nbformat": 4,
 "nbformat_minor": 2
}
